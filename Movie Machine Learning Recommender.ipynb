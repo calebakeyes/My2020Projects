{
 "cells": [
  {
   "cell_type": "code",
   "execution_count": 41,
   "metadata": {},
   "outputs": [],
   "source": [
    "import pandas as pd\n",
    "import numpy as np\n",
    "from sklearn.feature_extraction.text import CountVectorizer\n",
    "from sklearn.metrics.pairwise import cosine_similarity\n",
    "\n",
    "#The purpose of this program is to recommend movies\n",
    "#based on what your favorite movie is. Enjoy!\n",
    "\n",
    "df = pd.read_csv(\"movie_dataset.csv\")\n",
    "\n",
    "features = ['original_language','production_companies','keywords','cast','genres','director']\n",
    "\n",
    "def combine_features(row):\n",
    "    return row['keywords'] +\" \"+row['cast']+\" \"+row[\"genres\"]+\" \"+row[\"director\"]+\" \"+row[\"production_companies\"]+\" \"+row[\"original_language\"] \n",
    "\n",
    "for feature in features:\n",
    "    df[feature] = df[feature].fillna('')\n",
    "\n",
    "df[\"combined_features\"] = df.apply(combine_features,axis=1) \n",
    "\n",
    "cv = CountVectorizer() \n",
    "count_matrix = cv.fit_transform(df[\"combined_features\"])\n",
    "\n",
    "cosine_sim = cosine_similarity(count_matrix)\n",
    "\n",
    "def get_title_from_index(index):\n",
    "    return df[df.index == index][\"title\"].values[0]\n",
    "\n",
    "def get_index_from_title(title):\n",
    "    return df[df.title == title][\"index\"].values[0]"
   ]
  },
  {
   "cell_type": "code",
   "execution_count": 70,
   "metadata": {
    "scrolled": true
   },
   "outputs": [
    {
     "name": "stdout",
     "output_type": "stream",
     "text": [
      "What is your favorite movie?The Avengers\n",
      "Since you love The Avengers I'd recommend that you check out these other great movies:\n",
      "\n",
      "Avengers: Age of Ultron\n",
      "Iron Man 2\n",
      "Captain America: The Winter Soldier\n",
      "Captain America: Civil War\n",
      "The Incredible Hulk\n"
     ]
    }
   ],
   "source": [
    "favorite_movie = input(\"What is your favorite movie?\")\n",
    "try:\n",
    "    movie_user_likes = favorite_movie\n",
    "    movie_index = get_index_from_title(movie_user_likes)\n",
    "    similar_movies =  list(enumerate(cosine_sim[movie_index]))\n",
    "\n",
    "    sorted_similar_movies = sorted(similar_movies,key=lambda x:x[1],reverse=True)[1:]\n",
    "\n",
    "    i=0\n",
    "    print(\"Since you love \"+movie_user_likes+\" I'd recommend that you check out these other great movies:\\n\")\n",
    "    for element in sorted_similar_movies:\n",
    "        print(get_title_from_index(element[0]))\n",
    "        i=i+1\n",
    "        if i>=5:\n",
    "            break\n",
    "except IndexError:\n",
    "    print (\"Sorry, I haven't heard of that one. Please try again with a different movie you love.\")"
   ]
  }
 ],
 "metadata": {
  "kernelspec": {
   "display_name": "Python 3",
   "language": "python",
   "name": "python3"
  },
  "language_info": {
   "codemirror_mode": {
    "name": "ipython",
    "version": 3
   },
   "file_extension": ".py",
   "mimetype": "text/x-python",
   "name": "python",
   "nbconvert_exporter": "python",
   "pygments_lexer": "ipython3",
   "version": "3.7.6"
  }
 },
 "nbformat": 4,
 "nbformat_minor": 4
}
